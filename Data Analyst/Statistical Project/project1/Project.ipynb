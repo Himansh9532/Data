{
 "cells": [
  {
   "cell_type": "code",
   "execution_count": 2,
   "id": "e28d845a",
   "metadata": {},
   "outputs": [],
   "source": [
    "import pandas as pd\n",
    "import numpy as np\n",
    "import matplotlib.pyplot as plt"
   ]
  },
  {
   "cell_type": "code",
   "execution_count": 3,
   "id": "e86fbe07",
   "metadata": {},
   "outputs": [],
   "source": [
    "df = pd.read_csv(\"employee_experience_survey_data.csv\")"
   ]
  },
  {
   "cell_type": "code",
   "execution_count": 4,
   "id": "89e7469b",
   "metadata": {},
   "outputs": [
    {
     "data": {
      "text/plain": [
       "Index(['Name', 'Age Bracket', 'Gender', 'Ethnicity', 'Job Title', 'Department',\n",
       "       'Date Survey Completed', 'Job Satisfaction', 'Work-Life Balance',\n",
       "       'Management Support', 'Team Collaboration', 'Workload Fairness',\n",
       "       'Career Development Opportunities', 'Workplace Inclusivity',\n",
       "       'Company Communication', 'Compensation Satisfaction', 'Job Security',\n",
       "       'Overall Engagement'],\n",
       "      dtype='object')"
      ]
     },
     "execution_count": 4,
     "metadata": {},
     "output_type": "execute_result"
    }
   ],
   "source": [
    "df.columns"
   ]
  },
  {
   "cell_type": "code",
   "execution_count": 5,
   "id": "150d0b3c",
   "metadata": {},
   "outputs": [
    {
     "data": {
      "text/html": [
       "<div>\n",
       "<style scoped>\n",
       "    .dataframe tbody tr th:only-of-type {\n",
       "        vertical-align: middle;\n",
       "    }\n",
       "\n",
       "    .dataframe tbody tr th {\n",
       "        vertical-align: top;\n",
       "    }\n",
       "\n",
       "    .dataframe thead th {\n",
       "        text-align: right;\n",
       "    }\n",
       "</style>\n",
       "<table border=\"1\" class=\"dataframe\">\n",
       "  <thead>\n",
       "    <tr style=\"text-align: right;\">\n",
       "      <th></th>\n",
       "      <th>Name</th>\n",
       "      <th>Age Bracket</th>\n",
       "      <th>Gender</th>\n",
       "      <th>Ethnicity</th>\n",
       "      <th>Job Title</th>\n",
       "      <th>Department</th>\n",
       "      <th>Date Survey Completed</th>\n",
       "      <th>Job Satisfaction</th>\n",
       "      <th>Work-Life Balance</th>\n",
       "      <th>Management Support</th>\n",
       "      <th>Team Collaboration</th>\n",
       "      <th>Workload Fairness</th>\n",
       "      <th>Career Development Opportunities</th>\n",
       "      <th>Workplace Inclusivity</th>\n",
       "      <th>Company Communication</th>\n",
       "      <th>Compensation Satisfaction</th>\n",
       "      <th>Job Security</th>\n",
       "      <th>Overall Engagement</th>\n",
       "    </tr>\n",
       "  </thead>\n",
       "  <tbody>\n",
       "    <tr>\n",
       "      <th>0</th>\n",
       "      <td>John Doe</td>\n",
       "      <td>25-34</td>\n",
       "      <td>Female</td>\n",
       "      <td>Asian</td>\n",
       "      <td>Product Manager</td>\n",
       "      <td>Product Development</td>\n",
       "      <td>2024-10-05</td>\n",
       "      <td>Disagree</td>\n",
       "      <td>Strongly Agree</td>\n",
       "      <td>Neutral</td>\n",
       "      <td>Neutral</td>\n",
       "      <td>Neutral</td>\n",
       "      <td>Disagree</td>\n",
       "      <td>Agree</td>\n",
       "      <td>Strongly Agree</td>\n",
       "      <td>Strongly Agree</td>\n",
       "      <td>Agree</td>\n",
       "      <td>Strongly Agree</td>\n",
       "    </tr>\n",
       "  </tbody>\n",
       "</table>\n",
       "</div>"
      ],
      "text/plain": [
       "       Name Age Bracket  Gender Ethnicity        Job Title  \\\n",
       "0  John Doe       25-34  Female     Asian  Product Manager   \n",
       "\n",
       "            Department Date Survey Completed Job Satisfaction  \\\n",
       "0  Product Development            2024-10-05         Disagree   \n",
       "\n",
       "  Work-Life Balance Management Support Team Collaboration Workload Fairness  \\\n",
       "0    Strongly Agree            Neutral            Neutral           Neutral   \n",
       "\n",
       "  Career Development Opportunities Workplace Inclusivity  \\\n",
       "0                         Disagree                 Agree   \n",
       "\n",
       "  Company Communication Compensation Satisfaction Job Security  \\\n",
       "0        Strongly Agree            Strongly Agree        Agree   \n",
       "\n",
       "  Overall Engagement  \n",
       "0     Strongly Agree  "
      ]
     },
     "execution_count": 5,
     "metadata": {},
     "output_type": "execute_result"
    }
   ],
   "source": [
    "df.head(1)"
   ]
  },
  {
   "cell_type": "code",
   "execution_count": 6,
   "id": "93e32066",
   "metadata": {},
   "outputs": [
    {
     "data": {
      "text/plain": [
       "Name                                0\n",
       "Age Bracket                         0\n",
       "Gender                              0\n",
       "Ethnicity                           0\n",
       "Job Title                           0\n",
       "Department                          0\n",
       "Date Survey Completed               0\n",
       "Job Satisfaction                    0\n",
       "Work-Life Balance                   0\n",
       "Management Support                  0\n",
       "Team Collaboration                  0\n",
       "Workload Fairness                   0\n",
       "Career Development Opportunities    0\n",
       "Workplace Inclusivity               0\n",
       "Company Communication               0\n",
       "Compensation Satisfaction           0\n",
       "Job Security                        0\n",
       "Overall Engagement                  0\n",
       "dtype: int64"
      ]
     },
     "execution_count": 6,
     "metadata": {},
     "output_type": "execute_result"
    }
   ],
   "source": [
    "df.isnull().sum()"
   ]
  },
  {
   "cell_type": "code",
   "execution_count": 7,
   "id": "2d462d59",
   "metadata": {},
   "outputs": [
    {
     "data": {
      "text/plain": [
       "0"
      ]
     },
     "execution_count": 7,
     "metadata": {},
     "output_type": "execute_result"
    }
   ],
   "source": [
    "df.duplicated().sum()"
   ]
  },
  {
   "cell_type": "code",
   "execution_count": 8,
   "id": "5b557b1b",
   "metadata": {},
   "outputs": [],
   "source": [
    "import numpy as np\n",
    "likert_mapping = {\n",
    "    'Strongly Disagree': 1,\n",
    "    'Disagree': 2,\n",
    "    'Neutral': 3,\n",
    "    'Agree': 4,\n",
    "    'Strongly Agree': 5\n",
    "}\n",
    "# Apply mapping to relevant columns\n",
    "df['Job Satisfaction Num'] = df['Job Satisfaction'].map(likert_mapping)\n",
    "df['Overall Engagement Num'] = df['Overall Engagement'].map(likert_mapping)"
   ]
  },
  {
   "cell_type": "code",
   "execution_count": 9,
   "id": "4136e384",
   "metadata": {},
   "outputs": [],
   "source": [
    "desc_stats = {\n",
    "    'Mean' : [df['Job Satisfaction Num'].mean() , df['Overall Engagement Num'].mean()],\n",
    "    \"Meadian\" : [df['Job Satisfaction Num'].median() , df['Overall Engagement Num'].median()],\n",
    "    \"Mode\"     : [df['Job Satisfaction Num'].mode().iloc[0] , df['Overall Engagement Num'].mode().iloc[0]],\n",
    "    \"Std\" : [df['Job Satisfaction Num'].std() , df['Overall Engagement Num'].std()]\n",
    "}"
   ]
  },
  {
   "cell_type": "code",
   "execution_count": null,
   "id": "65f04efc",
   "metadata": {},
   "outputs": [],
   "source": []
  },
  {
   "cell_type": "code",
   "execution_count": 10,
   "id": "119b6908",
   "metadata": {},
   "outputs": [],
   "source": [
    "desc_df = pd.DataFrame(desc_stats , index = ['Job Satisfaction', 'Overall Engagement'])"
   ]
  },
  {
   "cell_type": "code",
   "execution_count": 11,
   "id": "91f26ddd",
   "metadata": {},
   "outputs": [
    {
     "data": {
      "text/html": [
       "<div>\n",
       "<style scoped>\n",
       "    .dataframe tbody tr th:only-of-type {\n",
       "        vertical-align: middle;\n",
       "    }\n",
       "\n",
       "    .dataframe tbody tr th {\n",
       "        vertical-align: top;\n",
       "    }\n",
       "\n",
       "    .dataframe thead th {\n",
       "        text-align: right;\n",
       "    }\n",
       "</style>\n",
       "<table border=\"1\" class=\"dataframe\">\n",
       "  <thead>\n",
       "    <tr style=\"text-align: right;\">\n",
       "      <th></th>\n",
       "      <th>Mean</th>\n",
       "      <th>Meadian</th>\n",
       "      <th>Mode</th>\n",
       "      <th>Std</th>\n",
       "    </tr>\n",
       "  </thead>\n",
       "  <tbody>\n",
       "    <tr>\n",
       "      <th>Job Satisfaction</th>\n",
       "      <td>3.0</td>\n",
       "      <td>3.0</td>\n",
       "      <td>2</td>\n",
       "      <td>1.309307</td>\n",
       "    </tr>\n",
       "    <tr>\n",
       "      <th>Overall Engagement</th>\n",
       "      <td>3.4</td>\n",
       "      <td>3.0</td>\n",
       "      <td>3</td>\n",
       "      <td>1.298351</td>\n",
       "    </tr>\n",
       "  </tbody>\n",
       "</table>\n",
       "</div>"
      ],
      "text/plain": [
       "                    Mean  Meadian  Mode       Std\n",
       "Job Satisfaction     3.0      3.0     2  1.309307\n",
       "Overall Engagement   3.4      3.0     3  1.298351"
      ]
     },
     "execution_count": 11,
     "metadata": {},
     "output_type": "execute_result"
    }
   ],
   "source": [
    "desc_df"
   ]
  },
  {
   "cell_type": "markdown",
   "id": "36140700",
   "metadata": {},
   "source": [
    "# Interpretation:\n",
    "Job Satisfaction:\n",
    "\n",
    "Average rating is 3.0 (Neutral)\n",
    "\n",
    "Most frequent response is 2 (Disagree)\n",
    "\n",
    "Indicates slight dissatisfaction overall\n",
    "\n",
    "Overall Engagement:\n",
    "\n",
    "Mean is 3.4 (between Neutral and Agree)\n",
    "\n",
    "Median is 3, but slightly higher satisfaction compared to Job Satisfaction\n",
    "\n"
   ]
  },
  {
   "cell_type": "code",
   "execution_count": 12,
   "id": "051df6f2",
   "metadata": {},
   "outputs": [
    {
     "data": {
      "text/html": [
       "<div>\n",
       "<style scoped>\n",
       "    .dataframe tbody tr th:only-of-type {\n",
       "        vertical-align: middle;\n",
       "    }\n",
       "\n",
       "    .dataframe tbody tr th {\n",
       "        vertical-align: top;\n",
       "    }\n",
       "\n",
       "    .dataframe thead th {\n",
       "        text-align: right;\n",
       "    }\n",
       "</style>\n",
       "<table border=\"1\" class=\"dataframe\">\n",
       "  <thead>\n",
       "    <tr style=\"text-align: right;\">\n",
       "      <th></th>\n",
       "      <th>Name</th>\n",
       "      <th>Age Bracket</th>\n",
       "      <th>Gender</th>\n",
       "      <th>Ethnicity</th>\n",
       "      <th>Job Title</th>\n",
       "      <th>Department</th>\n",
       "      <th>Date Survey Completed</th>\n",
       "      <th>Job Satisfaction</th>\n",
       "      <th>Work-Life Balance</th>\n",
       "      <th>Management Support</th>\n",
       "      <th>Team Collaboration</th>\n",
       "      <th>Workload Fairness</th>\n",
       "      <th>Career Development Opportunities</th>\n",
       "      <th>Workplace Inclusivity</th>\n",
       "      <th>Company Communication</th>\n",
       "      <th>Compensation Satisfaction</th>\n",
       "      <th>Job Security</th>\n",
       "      <th>Overall Engagement</th>\n",
       "      <th>Job Satisfaction Num</th>\n",
       "      <th>Overall Engagement Num</th>\n",
       "    </tr>\n",
       "  </thead>\n",
       "  <tbody>\n",
       "    <tr>\n",
       "      <th>0</th>\n",
       "      <td>John Doe</td>\n",
       "      <td>25-34</td>\n",
       "      <td>Female</td>\n",
       "      <td>Asian</td>\n",
       "      <td>Product Manager</td>\n",
       "      <td>Product Development</td>\n",
       "      <td>2024-10-05</td>\n",
       "      <td>Disagree</td>\n",
       "      <td>Strongly Agree</td>\n",
       "      <td>Neutral</td>\n",
       "      <td>Neutral</td>\n",
       "      <td>Neutral</td>\n",
       "      <td>Disagree</td>\n",
       "      <td>Agree</td>\n",
       "      <td>Strongly Agree</td>\n",
       "      <td>Strongly Agree</td>\n",
       "      <td>Agree</td>\n",
       "      <td>Strongly Agree</td>\n",
       "      <td>2</td>\n",
       "      <td>5</td>\n",
       "    </tr>\n",
       "  </tbody>\n",
       "</table>\n",
       "</div>"
      ],
      "text/plain": [
       "       Name Age Bracket  Gender Ethnicity        Job Title  \\\n",
       "0  John Doe       25-34  Female     Asian  Product Manager   \n",
       "\n",
       "            Department Date Survey Completed Job Satisfaction  \\\n",
       "0  Product Development            2024-10-05         Disagree   \n",
       "\n",
       "  Work-Life Balance Management Support Team Collaboration Workload Fairness  \\\n",
       "0    Strongly Agree            Neutral            Neutral           Neutral   \n",
       "\n",
       "  Career Development Opportunities Workplace Inclusivity  \\\n",
       "0                         Disagree                 Agree   \n",
       "\n",
       "  Company Communication Compensation Satisfaction Job Security  \\\n",
       "0        Strongly Agree            Strongly Agree        Agree   \n",
       "\n",
       "  Overall Engagement  Job Satisfaction Num  Overall Engagement Num  \n",
       "0     Strongly Agree                     2                       5  "
      ]
     },
     "execution_count": 12,
     "metadata": {},
     "output_type": "execute_result"
    }
   ],
   "source": [
    "df.head(1)"
   ]
  },
  {
   "cell_type": "code",
   "execution_count": 13,
   "id": "2f9a5bdf",
   "metadata": {},
   "outputs": [],
   "source": [
    "map_columns = [\n",
    "    'Job Satisfaction',\n",
    "    'Work-Life Balance',\n",
    "    'Management Support',\n",
    "    'Team Collaboration',\n",
    "    'Workload Fairness',\n",
    "    'Career Development Opportunities',\n",
    "    'Workplace Inclusivity',\n",
    "    'Company Communication',\n",
    "    'Compensation Satisfaction',\n",
    "    'Job Security',\n",
    "    'Overall Engagement'\n",
    "]\n",
    "for col in map_columns :\n",
    "    df[col + \"Num\"] = df[col].map(likert_mapping)"
   ]
  },
  {
   "cell_type": "code",
   "execution_count": 14,
   "id": "5fe72bca",
   "metadata": {},
   "outputs": [],
   "source": [
    "import matplotlib.pyplot as plt\n",
    "import seaborn as sns"
   ]
  },
  {
   "cell_type": "code",
   "execution_count": 15,
   "id": "70a192ef",
   "metadata": {},
   "outputs": [],
   "source": [
    "avg_by_job =  df.groupby(\"Age Bracket\")[\"Job Satisfaction Num\"].mean().sort_index()\n",
    "Department_by = df.groupby(\"Department\")[\"Job Satisfaction Num\"].mean().sort_index()"
   ]
  },
  {
   "cell_type": "code",
   "execution_count": 16,
   "id": "1d914286",
   "metadata": {},
   "outputs": [
    {
     "data": {
      "text/plain": [
       "<Axes: xlabel='Age Bracket', ylabel='Job Satisfaction Num'>"
      ]
     },
     "execution_count": 16,
     "metadata": {},
     "output_type": "execute_result"
    },
    {
     "data": {
      "image/png": "[encoded data removed]",
      "text/plain": [
       "<Figure size 640x480 with 1 Axes>"
      ]
     },
     "metadata": {},
     "output_type": "display_data"
    }
   ],
   "source": [
    "sns.barplot(df.groupby(\"Age Bracket\")[\"Job Satisfaction Num\"].mean().sort_index())"
   ]
  },
  {
   "cell_type": "code",
   "execution_count": 17,
   "id": "b506cf98",
   "metadata": {},
   "outputs": [
    {
     "data": {
      "image/png": "[encoded data removed]",
      "text/plain": [
       "<Figure size 640x480 with 1 Axes>"
      ]
     },
     "metadata": {},
     "output_type": "display_data"
    }
   ],
   "source": [
    "sns.barplot(df.groupby(\"Department\")[\"Job Satisfaction Num\"].mean().sort_index())\n",
    "plt.xticks(rotation=45)\n",
    "plt.show()"
   ]
  },
  {
   "cell_type": "code",
   "execution_count": 18,
   "id": "68b6f135",
   "metadata": {},
   "outputs": [
    {
     "data": {
      "text/plain": [
       "Index(['Name', 'Age Bracket', 'Gender', 'Ethnicity', 'Job Title', 'Department',\n",
       "       'Date Survey Completed', 'Job Satisfaction', 'Work-Life Balance',\n",
       "       'Management Support', 'Team Collaboration', 'Workload Fairness',\n",
       "       'Career Development Opportunities', 'Workplace Inclusivity',\n",
       "       'Company Communication', 'Compensation Satisfaction', 'Job Security',\n",
       "       'Overall Engagement', 'Job Satisfaction Num', 'Overall Engagement Num',\n",
       "       'Job SatisfactionNum', 'Work-Life BalanceNum', 'Management SupportNum',\n",
       "       'Team CollaborationNum', 'Workload FairnessNum',\n",
       "       'Career Development OpportunitiesNum', 'Workplace InclusivityNum',\n",
       "       'Company CommunicationNum', 'Compensation SatisfactionNum',\n",
       "       'Job SecurityNum', 'Overall EngagementNum'],\n",
       "      dtype='object')"
      ]
     },
     "execution_count": 18,
     "metadata": {},
     "output_type": "execute_result"
    }
   ],
   "source": [
    "df.columns"
   ]
  },
  {
   "cell_type": "code",
   "execution_count": 19,
   "id": "2236e759",
   "metadata": {},
   "outputs": [
    {
     "ename": "KeyError",
     "evalue": "'Column not found: Compensation Satisfactionnum'",
     "output_type": "error",
     "traceback": [
      "\u001b[1;31m---------------------------------------------------------------------------\u001b[0m",
      "\u001b[1;31mKeyError\u001b[0m                                  Traceback (most recent call last)",
      "Cell \u001b[1;32mIn[19], line 6\u001b[0m\n\u001b[0;32m      3\u001b[0m wlb_by_ethnicity \u001b[38;5;241m=\u001b[39m df\u001b[38;5;241m.\u001b[39mgroupby(\u001b[38;5;124m'\u001b[39m\u001b[38;5;124mEthnicity\u001b[39m\u001b[38;5;124m'\u001b[39m)[\u001b[38;5;124m'\u001b[39m\u001b[38;5;124mWork-Life BalanceNum\u001b[39m\u001b[38;5;124m'\u001b[39m]\u001b[38;5;241m.\u001b[39mmean()\u001b[38;5;241m.\u001b[39msort_values(ascending\u001b[38;5;241m=\u001b[39m\u001b[38;5;28;01mFalse\u001b[39;00m)\n\u001b[0;32m      5\u001b[0m \u001b[38;5;66;03m# Analyze Compensation Satisfaction by Gender and by Ethnicity\u001b[39;00m\n\u001b[1;32m----> 6\u001b[0m comp_by_gender \u001b[38;5;241m=\u001b[39m df\u001b[38;5;241m.\u001b[39mgroupby(\u001b[38;5;124m'\u001b[39m\u001b[38;5;124mGender\u001b[39m\u001b[38;5;124m'\u001b[39m)[\u001b[38;5;124m'\u001b[39m\u001b[38;5;124mCompensation Satisfactionnum\u001b[39m\u001b[38;5;124m'\u001b[39m]\u001b[38;5;241m.\u001b[39mmean()\u001b[38;5;241m.\u001b[39msort_values(ascending\u001b[38;5;241m=\u001b[39m\u001b[38;5;28;01mFalse\u001b[39;00m)\n\u001b[0;32m      7\u001b[0m comp_by_ethnicity \u001b[38;5;241m=\u001b[39m df\u001b[38;5;241m.\u001b[39mgroupby(\u001b[38;5;124m'\u001b[39m\u001b[38;5;124mEthnicity\u001b[39m\u001b[38;5;124m'\u001b[39m)[\u001b[38;5;124m'\u001b[39m\u001b[38;5;124mCompensation Satisfactionnum\u001b[39m\u001b[38;5;124m'\u001b[39m]\u001b[38;5;241m.\u001b[39mmean()\u001b[38;5;241m.\u001b[39msort_values(ascending\u001b[38;5;241m=\u001b[39m\u001b[38;5;28;01mFalse\u001b[39;00m)\n\u001b[0;32m      9\u001b[0m wlb_by_gender, wlb_by_ethnicity, comp_by_gender, comp_by_ethnicity\n",
      "File \u001b[1;32m~\\AppData\\Local\\anaconda3\\Lib\\site-packages\\pandas\\core\\groupby\\generic.py:1951\u001b[0m, in \u001b[0;36mDataFrameGroupBy.__getitem__\u001b[1;34m(self, key)\u001b[0m\n\u001b[0;32m   1944\u001b[0m \u001b[38;5;28;01mif\u001b[39;00m \u001b[38;5;28misinstance\u001b[39m(key, \u001b[38;5;28mtuple\u001b[39m) \u001b[38;5;129;01mand\u001b[39;00m \u001b[38;5;28mlen\u001b[39m(key) \u001b[38;5;241m>\u001b[39m \u001b[38;5;241m1\u001b[39m:\n\u001b[0;32m   1945\u001b[0m     \u001b[38;5;66;03m# if len == 1, then it becomes a SeriesGroupBy and this is actually\u001b[39;00m\n\u001b[0;32m   1946\u001b[0m     \u001b[38;5;66;03m# valid syntax, so don't raise\u001b[39;00m\n\u001b[0;32m   1947\u001b[0m     \u001b[38;5;28;01mraise\u001b[39;00m \u001b[38;5;167;01mValueError\u001b[39;00m(\n\u001b[0;32m   1948\u001b[0m         \u001b[38;5;124m\"\u001b[39m\u001b[38;5;124mCannot subset columns with a tuple with more than one element. \u001b[39m\u001b[38;5;124m\"\u001b[39m\n\u001b[0;32m   1949\u001b[0m         \u001b[38;5;124m\"\u001b[39m\u001b[38;5;124mUse a list instead.\u001b[39m\u001b[38;5;124m\"\u001b[39m\n\u001b[0;32m   1950\u001b[0m     )\n\u001b[1;32m-> 1951\u001b[0m \u001b[38;5;28;01mreturn\u001b[39;00m \u001b[38;5;28msuper\u001b[39m()\u001b[38;5;241m.\u001b[39m\u001b[38;5;21m__getitem__\u001b[39m(key)\n",
      "File \u001b[1;32m~\\AppData\\Local\\anaconda3\\Lib\\site-packages\\pandas\\core\\base.py:244\u001b[0m, in \u001b[0;36mSelectionMixin.__getitem__\u001b[1;34m(self, key)\u001b[0m\n\u001b[0;32m    242\u001b[0m \u001b[38;5;28;01melse\u001b[39;00m:\n\u001b[0;32m    243\u001b[0m     \u001b[38;5;28;01mif\u001b[39;00m key \u001b[38;5;129;01mnot\u001b[39;00m \u001b[38;5;129;01min\u001b[39;00m \u001b[38;5;28mself\u001b[39m\u001b[38;5;241m.\u001b[39mobj:\n\u001b[1;32m--> 244\u001b[0m         \u001b[38;5;28;01mraise\u001b[39;00m \u001b[38;5;167;01mKeyError\u001b[39;00m(\u001b[38;5;124mf\u001b[39m\u001b[38;5;124m\"\u001b[39m\u001b[38;5;124mColumn not found: \u001b[39m\u001b[38;5;132;01m{\u001b[39;00mkey\u001b[38;5;132;01m}\u001b[39;00m\u001b[38;5;124m\"\u001b[39m)\n\u001b[0;32m    245\u001b[0m     ndim \u001b[38;5;241m=\u001b[39m \u001b[38;5;28mself\u001b[39m\u001b[38;5;241m.\u001b[39mobj[key]\u001b[38;5;241m.\u001b[39mndim\n\u001b[0;32m    246\u001b[0m     \u001b[38;5;28;01mreturn\u001b[39;00m \u001b[38;5;28mself\u001b[39m\u001b[38;5;241m.\u001b[39m_gotitem(key, ndim\u001b[38;5;241m=\u001b[39mndim)\n",
      "\u001b[1;31mKeyError\u001b[0m: 'Column not found: Compensation Satisfactionnum'"
     ]
    }
   ],
   "source": [
    "# Analyze Work-Life Balance by Gender and by Ethnicity\n",
    "wlb_by_gender = df.groupby('Gender')['Work-Life BalanceNum'].mean().sort_values(ascending=False)\n",
    "wlb_by_ethnicity = df.groupby('Ethnicity')['Work-Life BalanceNum'].mean().sort_values(ascending=False)\n",
    "\n",
    "# Analyze Compensation Satisfaction by Gender and by Ethnicity\n",
    "comp_by_gender = df.groupby('Gender')['Compensation Satisfactionnum'].mean().sort_values(ascending=False)\n",
    "comp_by_ethnicity = df.groupby('Ethnicity')['Compensation Satisfactionnum'].mean().sort_values(ascending=False)\n",
    "\n",
    "wlb_by_gender, wlb_by_ethnicity, comp_by_gender, comp_by_ethnicity\n"
   ]
  },
  {
   "cell_type": "markdown",
   "id": "d93aad77",
   "metadata": {},
   "source": [
    "# Step 3: Inferential Statistics"
   ]
  },
  {
   "cell_type": "raw",
   "id": "941dabb8",
   "metadata": {},
   "source": [
    "Goal: Compare Job Satisfaction between IT and HR departments\n",
    "Steps:\n",
    "Null Hypothesis (H₀): There is no difference in job satisfaction between IT and HR\n",
    "\n",
    "Alternative Hypothesis (H₁): There is a difference\n",
    "\n",
    "Test: Independent 2-sample t-test"
   ]
  },
  {
   "cell_type": "code",
   "execution_count": 20,
   "id": "ab7803b5",
   "metadata": {},
   "outputs": [
    {
     "data": {
      "text/plain": [
       "<Axes: xlabel='count', ylabel='Department'>"
      ]
     },
     "execution_count": 20,
     "metadata": {},
     "output_type": "execute_result"
    },
    {
     "data": {
      "image/png": "[encoded data removed]",
      "text/plain": [
       "<Figure size 640x480 with 1 Axes>"
      ]
     },
     "metadata": {},
     "output_type": "display_data"
    }
   ],
   "source": [
    "sns.countplot(df[\"Department\"])"
   ]
  },
  {
   "cell_type": "code",
   "execution_count": 1,
   "id": "88a24cdd",
   "metadata": {},
   "outputs": [
    {
     "ename": "NameError",
     "evalue": "name 'df' is not defined",
     "output_type": "error",
     "traceback": [
      "\u001b[1;31m---------------------------------------------------------------------------\u001b[0m",
      "\u001b[1;31mNameError\u001b[0m                                 Traceback (most recent call last)",
      "Cell \u001b[1;32mIn[1], line 1\u001b[0m\n\u001b[1;32m----> 1\u001b[0m df\u001b[38;5;241m.\u001b[39mcolumns\n",
      "\u001b[1;31mNameError\u001b[0m: name 'df' is not defined"
     ]
    }
   ],
   "source": [
    "df.columns"
   ]
  },
  {
   "cell_type": "code",
   "execution_count": 30,
   "id": "b360db38",
   "metadata": {
    "scrolled": true
   },
   "outputs": [
    {
     "data": {
      "text/plain": [
       "(nan, nan, 1, 2)"
      ]
     },
     "execution_count": 30,
     "metadata": {},
     "output_type": "execute_result"
    }
   ],
   "source": [
    "from scipy.stats import ttest_ind\n",
    "it_scores = df[df['Department'] == 'IT']['Job Satisfaction Num'].dropna()\n",
    "hr_scores = df[df['Department'] == 'HR']['Job Satisfaction Num'].dropna()\n",
    "t_stat, p_value = ttest_ind(it_scores, hr_scores, equal_var=False)\n",
    "\n",
    "# Sample sizes\n",
    "n_it = len(it_scores)\n",
    "n_hr = len(hr_scores)\n",
    "\n",
    "t_stat, p_value, n_it, n_hr"
   ]
  },
  {
   "cell_type": "markdown",
   "id": "661c9375",
   "metadata": {},
   "source": [
    "Presentation:\n",
    "\n",
    "\"A t-test could not be conducted between IT and HR due to insufficient sample size in the IT department (only 1 respondent). Therefore, no statistically valid conclusion can be drawn for this comparison.\"\n",
    "\n"
   ]
  },
  {
   "cell_type": "code",
   "execution_count": 33,
   "id": "67cefd35",
   "metadata": {},
   "outputs": [
    {
     "data": {
      "text/plain": [
       "(0.08304547985374013, 0.9370597192475594, 4, 3)"
      ]
     },
     "execution_count": 33,
     "metadata": {},
     "output_type": "execute_result"
    }
   ],
   "source": [
    "from scipy.stats import ttest_ind\n",
    "it_scores = df[df['Department'] == 'Sales']['Job Satisfaction Num'].dropna()\n",
    "hr_scores = df[df['Department'] == 'Product Development']['Job Satisfaction Num'].dropna()\n",
    "t_stat, p_value = ttest_ind(it_scores, hr_scores, equal_var=False)\n",
    "\n",
    "# Sample sizes\n",
    "n_it = len(it_scores)\n",
    "n_hr = len(hr_scores)\n",
    "\n",
    "t_stat, p_value, n_it, n_hr"
   ]
  },
  {
   "cell_type": "markdown",
   "id": "fb776e89",
   "metadata": {},
   "source": [
    "# p = 0.937 > 0.05 ⇒ We fail to reject the null hypothesis\n",
    "\n",
    "There is no statistically significant difference in Job Satisfaction between Sales and Product Development departments"
   ]
  },
  {
   "cell_type": "code",
   "execution_count": 19,
   "id": "ab35a383",
   "metadata": {},
   "outputs": [],
   "source": [
    "import numpy as np"
   ]
  },
  {
   "cell_type": "code",
   "execution_count": 29,
   "id": "4a5dbd4d",
   "metadata": {},
   "outputs": [],
   "source": [
    "a = np.array([1,2])"
   ]
  },
  {
   "cell_type": "code",
   "execution_count": 30,
   "id": "3d31aa21",
   "metadata": {},
   "outputs": [
    {
     "name": "stdout",
     "output_type": "stream",
     "text": [
      "1\n"
     ]
    }
   ],
   "source": [
    "type(a)\n",
    "print(a.ndim)"
   ]
  },
  {
   "cell_type": "code",
   "execution_count": 31,
   "id": "42794002",
   "metadata": {},
   "outputs": [
    {
     "name": "stdout",
     "output_type": "stream",
     "text": [
      "2\n"
     ]
    }
   ],
   "source": [
    "b = np.array([[1,2] ,[2,4]])\n",
    "print(b.ndim)"
   ]
  },
  {
   "cell_type": "code",
   "execution_count": 36,
   "id": "fcf81b7a",
   "metadata": {},
   "outputs": [
    {
     "name": "stdout",
     "output_type": "stream",
     "text": [
      "3\n"
     ]
    }
   ],
   "source": [
    "c = np.array([[[1,2,3] , [4,5,6]],[[6,7,8],[9,10,11]]])\n",
    "print(c.ndim)"
   ]
  },
  {
   "cell_type": "code",
   "execution_count": null,
   "id": "e6616ed2",
   "metadata": {},
   "outputs": [],
   "source": []
  }
 ],
 "metadata": {
  "kernelspec": {
   "display_name": "Python 3 (ipykernel)",
   "language": "python",
   "name": "python3"
  },
  "language_info": {
   "codemirror_mode": {
    "name": "ipython",
    "version": 3
   },
   "file_extension": ".py",
   "mimetype": "text/x-python",
   "name": "python",
   "nbconvert_exporter": "python",
   "pygments_lexer": "ipython3",
   "version": "3.12.7"
  }
 },
 "nbformat": 4,
 "nbformat_minor": 5
}
